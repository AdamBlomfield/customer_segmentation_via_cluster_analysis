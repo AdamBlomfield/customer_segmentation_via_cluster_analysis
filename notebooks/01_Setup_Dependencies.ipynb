{
 "cells": [
  {
   "cell_type": "markdown",
   "metadata": {},
   "source": [
    "# Setup All Project Dependencies"
   ]
  },
  {
   "cell_type": "code",
   "execution_count": 9,
   "metadata": {
    "ExecuteTime": {
     "end_time": "2021-08-24T15:48:16.019119Z",
     "start_time": "2021-08-24T15:48:15.896832Z"
    }
   },
   "outputs": [
    {
     "name": "stdout",
     "output_type": "stream",
     "text": [
      "Python 3.8.5\r\n"
     ]
    }
   ],
   "source": [
    "!python3 --version # 3.8.5"
   ]
  },
  {
   "cell_type": "code",
   "execution_count": 10,
   "metadata": {
    "ExecuteTime": {
     "end_time": "2021-08-24T15:48:16.570906Z",
     "start_time": "2021-08-24T15:48:16.021063Z"
    }
   },
   "outputs": [
    {
     "name": "stdout",
     "output_type": "stream",
     "text": [
      "Package                           Version\r\n",
      "--------------------------------- ---------\r\n",
      "appdirs                           1.4.4\r\n",
      "appnope                           0.1.2\r\n",
      "argon2-cffi                       20.1.0\r\n",
      "astroid                           2.4.2\r\n",
      "async-generator                   1.10\r\n",
      "attrs                             20.3.0\r\n",
      "Automat                           20.2.0\r\n",
      "autopep8                          1.5.7\r\n",
      "backcall                          0.2.0\r\n",
      "bleach                            3.3.0\r\n",
      "certifi                           2020.6.20\r\n",
      "cffi                              1.14.4\r\n",
      "click                             8.0.1\r\n",
      "constantly                        15.1.0\r\n",
      "cryptography                      3.3.1\r\n",
      "cssselect                         1.1.0\r\n",
      "cycler                            0.10.0\r\n",
      "debugpy                           1.3.0\r\n",
      "decorator                         5.0.9\r\n",
      "defusedxml                        0.7.1\r\n",
      "distlib                           0.3.1\r\n",
      "entrypoints                       0.3\r\n",
      "et-xmlfile                        1.0.1\r\n",
      "filelock                          3.0.12\r\n",
      "hyperlink                         20.0.1\r\n",
      "idna                              2.10\r\n",
      "incremental                       17.5.0\r\n",
      "ipykernel                         6.0.1\r\n",
      "ipython                           7.25.0\r\n",
      "ipython-genutils                  0.2.0\r\n",
      "isort                             5.6.4\r\n",
      "itemadapter                       0.2.0\r\n",
      "jedi                              0.18.0\r\n",
      "Jinja2                            3.0.1\r\n",
      "jmespath                          0.10.0\r\n",
      "joblib                            1.0.1\r\n",
      "jsonschema                        3.2.0\r\n",
      "jupyter-client                    6.1.12\r\n",
      "jupyter-contrib-core              0.3.3\r\n",
      "jupyter-contrib-nbextensions      0.5.1\r\n",
      "jupyter-core                      4.7.1\r\n",
      "jupyter-highlight-selected-word   0.2.0\r\n",
      "jupyter-latex-envs                1.4.6\r\n",
      "jupyter-nbextensions-configurator 0.4.1\r\n",
      "jupyterlab-pygments               0.1.2\r\n",
      "kiwisolver                        1.3.1\r\n",
      "lazy-object-proxy                 1.4.3\r\n",
      "lxml                              4.6.2\r\n",
      "MarkupSafe                        2.0.1\r\n",
      "matplotlib                        3.3.2\r\n",
      "matplotlib-inline                 0.1.2\r\n",
      "mccabe                            0.6.1\r\n",
      "mistune                           0.8.4\r\n",
      "nbclient                          0.5.3\r\n",
      "nbconvert                         6.1.0\r\n",
      "nbformat                          5.1.3\r\n",
      "nest-asyncio                      1.5.1\r\n",
      "nltk                              3.6.2\r\n",
      "notebook                          6.4.0\r\n",
      "numpy                             1.19.4\r\n",
      "openpyxl                          3.0.7\r\n",
      "packaging                         20.9\r\n",
      "pandas                            1.1.5\r\n",
      "pandocfilters                     1.4.3\r\n",
      "parsel                            1.6.0\r\n",
      "parso                             0.8.2\r\n",
      "pexpect                           4.8.0\r\n",
      "pickleshare                       0.7.5\r\n",
      "Pillow                            8.2.0\r\n",
      "pip                               21.1.3\r\n",
      "pipenv                            2021.5.29\r\n",
      "prometheus-client                 0.11.0\r\n",
      "prompt-toolkit                    3.0.19\r\n",
      "ptyprocess                        0.7.0\r\n",
      "pyasn1                            0.4.8\r\n",
      "pyasn1-modules                    0.2.8\r\n",
      "pycodestyle                       2.7.0\r\n",
      "pycparser                         2.20\r\n",
      "Pygments                          2.9.0\r\n",
      "PyHamcrest                        2.0.2\r\n",
      "pylint                            2.6.0\r\n",
      "pyparsing                         2.4.7\r\n",
      "pyrsistent                        0.18.0\r\n",
      "pyspark                           2.4.3\r\n",
      "python-dateutil                   2.8.1\r\n",
      "pytz                              2020.5\r\n",
      "PyYAML                            5.4.1\r\n",
      "pyzmq                             22.1.0\r\n",
      "regex                             2021.8.21\r\n",
      "scipy                             1.7.1\r\n",
      "seaborn                           0.11.1\r\n",
      "selenium                          3.141.0\r\n",
      "Send2Trash                        1.7.1\r\n",
      "setuptools                        47.1.0\r\n",
      "six                               1.15.0\r\n",
      "terminado                         0.10.1\r\n",
      "testpath                          0.5.0\r\n",
      "toml                              0.10.2\r\n",
      "tornado                           6.1\r\n",
      "tqdm                              4.62.2\r\n",
      "traitlets                         5.0.5\r\n",
      "urllib3                           1.25.11\r\n",
      "virtualenv                        20.2.2\r\n",
      "virtualenv-clone                  0.5.6\r\n",
      "w3lib                             1.22.0\r\n",
      "wcwidth                           0.2.5\r\n",
      "webencodings                      0.5.1\r\n",
      "wrapt                             1.12.1\r\n",
      "zope.interface                    5.2.0\r\n",
      "\u001b[33mWARNING: You are using pip version 21.1.3; however, version 21.2.4 is available.\r\n",
      "You should consider upgrading via the '/usr/local/bin/python3 -m pip install --upgrade pip' command.\u001b[0m\r\n"
     ]
    }
   ],
   "source": [
    "!pip list"
   ]
  },
  {
   "cell_type": "markdown",
   "metadata": {},
   "source": [
    "## Openpyxl"
   ]
  },
  {
   "cell_type": "code",
   "execution_count": 11,
   "metadata": {
    "ExecuteTime": {
     "end_time": "2021-08-24T15:48:17.520941Z",
     "start_time": "2021-08-24T15:48:16.573157Z"
    }
   },
   "outputs": [
    {
     "name": "stdout",
     "output_type": "stream",
     "text": [
      "Requirement already satisfied: openpyxl in /Library/Frameworks/Python.framework/Versions/3.8/lib/python3.8/site-packages (3.0.7)\n",
      "Requirement already satisfied: et-xmlfile in /Library/Frameworks/Python.framework/Versions/3.8/lib/python3.8/site-packages (from openpyxl) (1.0.1)\n",
      "\u001b[33mWARNING: You are using pip version 21.1.3; however, version 21.2.4 is available.\n",
      "You should consider upgrading via the '/usr/local/bin/python3 -m pip install --upgrade pip' command.\u001b[0m\n"
     ]
    }
   ],
   "source": [
    "# Enables reading of xmlx files\n",
    "!pip install openpyxl"
   ]
  },
  {
   "cell_type": "markdown",
   "metadata": {},
   "source": [
    "## Matplotlib"
   ]
  },
  {
   "cell_type": "code",
   "execution_count": 12,
   "metadata": {
    "ExecuteTime": {
     "end_time": "2021-08-24T15:48:18.405446Z",
     "start_time": "2021-08-24T15:48:17.526776Z"
    }
   },
   "outputs": [],
   "source": [
    "!pip install --disable-pip-version-check -q matplotlib==3.3.2"
   ]
  },
  {
   "cell_type": "markdown",
   "metadata": {},
   "source": [
    "## Seaborn"
   ]
  },
  {
   "cell_type": "code",
   "execution_count": 13,
   "metadata": {
    "ExecuteTime": {
     "end_time": "2021-08-24T15:48:19.266907Z",
     "start_time": "2021-08-24T15:48:18.408530Z"
    }
   },
   "outputs": [],
   "source": [
    "!pip install --disable-pip-version-check -q seaborn==0.11.1"
   ]
  },
  {
   "cell_type": "markdown",
   "metadata": {},
   "source": [
    "## Autopep8"
   ]
  },
  {
   "cell_type": "code",
   "execution_count": 14,
   "metadata": {
    "ExecuteTime": {
     "end_time": "2021-08-24T15:48:20.105286Z",
     "start_time": "2021-08-24T15:48:19.271363Z"
    }
   },
   "outputs": [
    {
     "name": "stdout",
     "output_type": "stream",
     "text": [
      "Requirement already satisfied: autopep8 in /Users/adam/Library/Python/3.8/lib/python/site-packages (1.5.7)\n",
      "Requirement already satisfied: pycodestyle>=2.7.0 in /Users/adam/Library/Python/3.8/lib/python/site-packages (from autopep8) (2.7.0)\n",
      "Requirement already satisfied: toml in /Users/adam/Library/Python/3.8/lib/python/site-packages (from autopep8) (0.10.2)\n",
      "\u001b[33mWARNING: You are using pip version 21.1.3; however, version 21.2.4 is available.\n",
      "You should consider upgrading via the '/usr/local/bin/python3 -m pip install --upgrade pip' command.\u001b[0m\n"
     ]
    }
   ],
   "source": [
    "!pip install autopep8 --user"
   ]
  },
  {
   "cell_type": "code",
   "execution_count": null,
   "metadata": {},
   "outputs": [],
   "source": []
  }
 ],
 "metadata": {
  "kernelspec": {
   "display_name": "Python 3 (ipykernel)",
   "language": "python",
   "name": "python3"
  },
  "language_info": {
   "codemirror_mode": {
    "name": "ipython",
    "version": 3
   },
   "file_extension": ".py",
   "mimetype": "text/x-python",
   "name": "python",
   "nbconvert_exporter": "python",
   "pygments_lexer": "ipython3",
   "version": "3.8.5"
  },
  "toc": {
   "base_numbering": 1,
   "nav_menu": {},
   "number_sections": true,
   "sideBar": true,
   "skip_h1_title": false,
   "title_cell": "Table of Contents",
   "title_sidebar": "Contents",
   "toc_cell": false,
   "toc_position": {},
   "toc_section_display": true,
   "toc_window_display": false
  },
  "varInspector": {
   "cols": {
    "lenName": 16,
    "lenType": 16,
    "lenVar": 40
   },
   "kernels_config": {
    "python": {
     "delete_cmd_postfix": "",
     "delete_cmd_prefix": "del ",
     "library": "var_list.py",
     "varRefreshCmd": "print(var_dic_list())"
    },
    "r": {
     "delete_cmd_postfix": ") ",
     "delete_cmd_prefix": "rm(",
     "library": "var_list.r",
     "varRefreshCmd": "cat(var_dic_list()) "
    }
   },
   "types_to_exclude": [
    "module",
    "function",
    "builtin_function_or_method",
    "instance",
    "_Feature"
   ],
   "window_display": false
  }
 },
 "nbformat": 4,
 "nbformat_minor": 4
}
